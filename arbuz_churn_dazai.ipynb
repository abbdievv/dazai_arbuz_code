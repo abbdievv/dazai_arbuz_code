{
  "nbformat": 4,
  "nbformat_minor": 0,
  "metadata": {
    "colab": {
      "provenance": []
    },
    "kernelspec": {
      "name": "python3",
      "display_name": "Python 3"
    },
    "language_info": {
      "name": "python"
    }
  },
  "cells": [
    {
      "cell_type": "code",
      "execution_count": 18,
      "metadata": {
        "id": "5yzum_8t6OGZ"
      },
      "outputs": [],
      "source": [
        "import pandas as pd\n",
        "import numpy as np\n",
        "from sklearn.model_selection import train_test_split\n",
        "from sklearn.metrics import classification_report\n",
        "from sklearn.ensemble import RandomForestClassifier\n",
        "from imblearn.combine import SMOTEENN\n",
        "from sklearn.metrics import f1_score\n",
        "from sklearn.metrics import confusion_matrix\n",
        "from sklearn.impute import KNNImputer"
      ]
    },
    {
      "cell_type": "code",
      "source": [
        "df = pd.read_csv('ArbuzTrain.csv')\n",
        "df.head()"
      ],
      "metadata": {
        "colab": {
          "base_uri": "https://localhost:8080/",
          "height": 299
        },
        "id": "3biqI-KI6mjZ",
        "outputId": "75d24813-e1a2-45cc-ba2f-a412edf9173a"
      },
      "execution_count": 10,
      "outputs": [
        {
          "output_type": "execute_result",
          "data": {
            "text/plain": [
              "   client_id  average_check  number_orders  average_score  items_per_order  \\\n",
              "0        301          49300              7           10.0          23.4286   \n",
              "1       9394          58900              7           10.0           5.4286   \n",
              "2       6680          43100              6           10.0          15.3333   \n",
              "3       4774          33900              8            4.0           9.6250   \n",
              "4       2722          37900              9           10.0          14.2222   \n",
              "\n",
              "   is_friend  last_check  last_score  last_scored_after_order_days  \\\n",
              "0          0      9250.0         NaN                           NaN   \n",
              "1          0     24547.0         NaN                           NaN   \n",
              "2          0      6017.0         NaN                           NaN   \n",
              "3          0      7316.0         NaN                           NaN   \n",
              "4          0      2175.0        10.0                           0.0   \n",
              "\n",
              "   last_late_by_minutes  ...  items_share_category_19  \\\n",
              "0                     0  ...                      0.0   \n",
              "1                     0  ...                      0.0   \n",
              "2                     0  ...                      0.0   \n",
              "3                     0  ...                      0.0   \n",
              "4                     0  ...                      0.0   \n",
              "\n",
              "   items_share_category_20  items_share_category_21  items_share_category_22  \\\n",
              "0                      0.0                     0.01                      0.0   \n",
              "1                      0.0                     0.00                      0.0   \n",
              "2                      0.0                     0.00                      0.0   \n",
              "3                      0.0                     0.01                      0.0   \n",
              "4                      0.0                     0.00                      0.0   \n",
              "\n",
              "   items_share_category_23  items_share_category_24  items_share_category_25  \\\n",
              "0                     0.00                     0.00                     0.01   \n",
              "1                     0.00                     0.03                     0.00   \n",
              "2                     0.00                     0.22                     0.00   \n",
              "3                     0.06                     0.35                     0.00   \n",
              "4                     0.04                     0.22                     0.00   \n",
              "\n",
              "   items_share_category_26  items_share_category_27  is_churn  \n",
              "0                      0.0                     0.00         0  \n",
              "1                      0.0                     0.00         0  \n",
              "2                      0.0                     0.02         0  \n",
              "3                      0.0                     0.17         0  \n",
              "4                      0.0                     0.01         0  \n",
              "\n",
              "[5 rows x 39 columns]"
            ],
            "text/html": [
              "\n",
              "  <div id=\"df-fb062d08-3405-4640-868b-8332a75ff3be\">\n",
              "    <div class=\"colab-df-container\">\n",
              "      <div>\n",
              "<style scoped>\n",
              "    .dataframe tbody tr th:only-of-type {\n",
              "        vertical-align: middle;\n",
              "    }\n",
              "\n",
              "    .dataframe tbody tr th {\n",
              "        vertical-align: top;\n",
              "    }\n",
              "\n",
              "    .dataframe thead th {\n",
              "        text-align: right;\n",
              "    }\n",
              "</style>\n",
              "<table border=\"1\" class=\"dataframe\">\n",
              "  <thead>\n",
              "    <tr style=\"text-align: right;\">\n",
              "      <th></th>\n",
              "      <th>client_id</th>\n",
              "      <th>average_check</th>\n",
              "      <th>number_orders</th>\n",
              "      <th>average_score</th>\n",
              "      <th>items_per_order</th>\n",
              "      <th>is_friend</th>\n",
              "      <th>last_check</th>\n",
              "      <th>last_score</th>\n",
              "      <th>last_scored_after_order_days</th>\n",
              "      <th>last_late_by_minutes</th>\n",
              "      <th>...</th>\n",
              "      <th>items_share_category_19</th>\n",
              "      <th>items_share_category_20</th>\n",
              "      <th>items_share_category_21</th>\n",
              "      <th>items_share_category_22</th>\n",
              "      <th>items_share_category_23</th>\n",
              "      <th>items_share_category_24</th>\n",
              "      <th>items_share_category_25</th>\n",
              "      <th>items_share_category_26</th>\n",
              "      <th>items_share_category_27</th>\n",
              "      <th>is_churn</th>\n",
              "    </tr>\n",
              "  </thead>\n",
              "  <tbody>\n",
              "    <tr>\n",
              "      <th>0</th>\n",
              "      <td>301</td>\n",
              "      <td>49300</td>\n",
              "      <td>7</td>\n",
              "      <td>10.0</td>\n",
              "      <td>23.4286</td>\n",
              "      <td>0</td>\n",
              "      <td>9250.0</td>\n",
              "      <td>NaN</td>\n",
              "      <td>NaN</td>\n",
              "      <td>0</td>\n",
              "      <td>...</td>\n",
              "      <td>0.0</td>\n",
              "      <td>0.0</td>\n",
              "      <td>0.01</td>\n",
              "      <td>0.0</td>\n",
              "      <td>0.00</td>\n",
              "      <td>0.00</td>\n",
              "      <td>0.01</td>\n",
              "      <td>0.0</td>\n",
              "      <td>0.00</td>\n",
              "      <td>0</td>\n",
              "    </tr>\n",
              "    <tr>\n",
              "      <th>1</th>\n",
              "      <td>9394</td>\n",
              "      <td>58900</td>\n",
              "      <td>7</td>\n",
              "      <td>10.0</td>\n",
              "      <td>5.4286</td>\n",
              "      <td>0</td>\n",
              "      <td>24547.0</td>\n",
              "      <td>NaN</td>\n",
              "      <td>NaN</td>\n",
              "      <td>0</td>\n",
              "      <td>...</td>\n",
              "      <td>0.0</td>\n",
              "      <td>0.0</td>\n",
              "      <td>0.00</td>\n",
              "      <td>0.0</td>\n",
              "      <td>0.00</td>\n",
              "      <td>0.03</td>\n",
              "      <td>0.00</td>\n",
              "      <td>0.0</td>\n",
              "      <td>0.00</td>\n",
              "      <td>0</td>\n",
              "    </tr>\n",
              "    <tr>\n",
              "      <th>2</th>\n",
              "      <td>6680</td>\n",
              "      <td>43100</td>\n",
              "      <td>6</td>\n",
              "      <td>10.0</td>\n",
              "      <td>15.3333</td>\n",
              "      <td>0</td>\n",
              "      <td>6017.0</td>\n",
              "      <td>NaN</td>\n",
              "      <td>NaN</td>\n",
              "      <td>0</td>\n",
              "      <td>...</td>\n",
              "      <td>0.0</td>\n",
              "      <td>0.0</td>\n",
              "      <td>0.00</td>\n",
              "      <td>0.0</td>\n",
              "      <td>0.00</td>\n",
              "      <td>0.22</td>\n",
              "      <td>0.00</td>\n",
              "      <td>0.0</td>\n",
              "      <td>0.02</td>\n",
              "      <td>0</td>\n",
              "    </tr>\n",
              "    <tr>\n",
              "      <th>3</th>\n",
              "      <td>4774</td>\n",
              "      <td>33900</td>\n",
              "      <td>8</td>\n",
              "      <td>4.0</td>\n",
              "      <td>9.6250</td>\n",
              "      <td>0</td>\n",
              "      <td>7316.0</td>\n",
              "      <td>NaN</td>\n",
              "      <td>NaN</td>\n",
              "      <td>0</td>\n",
              "      <td>...</td>\n",
              "      <td>0.0</td>\n",
              "      <td>0.0</td>\n",
              "      <td>0.01</td>\n",
              "      <td>0.0</td>\n",
              "      <td>0.06</td>\n",
              "      <td>0.35</td>\n",
              "      <td>0.00</td>\n",
              "      <td>0.0</td>\n",
              "      <td>0.17</td>\n",
              "      <td>0</td>\n",
              "    </tr>\n",
              "    <tr>\n",
              "      <th>4</th>\n",
              "      <td>2722</td>\n",
              "      <td>37900</td>\n",
              "      <td>9</td>\n",
              "      <td>10.0</td>\n",
              "      <td>14.2222</td>\n",
              "      <td>0</td>\n",
              "      <td>2175.0</td>\n",
              "      <td>10.0</td>\n",
              "      <td>0.0</td>\n",
              "      <td>0</td>\n",
              "      <td>...</td>\n",
              "      <td>0.0</td>\n",
              "      <td>0.0</td>\n",
              "      <td>0.00</td>\n",
              "      <td>0.0</td>\n",
              "      <td>0.04</td>\n",
              "      <td>0.22</td>\n",
              "      <td>0.00</td>\n",
              "      <td>0.0</td>\n",
              "      <td>0.01</td>\n",
              "      <td>0</td>\n",
              "    </tr>\n",
              "  </tbody>\n",
              "</table>\n",
              "<p>5 rows × 39 columns</p>\n",
              "</div>\n",
              "      <button class=\"colab-df-convert\" onclick=\"convertToInteractive('df-fb062d08-3405-4640-868b-8332a75ff3be')\"\n",
              "              title=\"Convert this dataframe to an interactive table.\"\n",
              "              style=\"display:none;\">\n",
              "        \n",
              "  <svg xmlns=\"http://www.w3.org/2000/svg\" height=\"24px\"viewBox=\"0 0 24 24\"\n",
              "       width=\"24px\">\n",
              "    <path d=\"M0 0h24v24H0V0z\" fill=\"none\"/>\n",
              "    <path d=\"M18.56 5.44l.94 2.06.94-2.06 2.06-.94-2.06-.94-.94-2.06-.94 2.06-2.06.94zm-11 1L8.5 8.5l.94-2.06 2.06-.94-2.06-.94L8.5 2.5l-.94 2.06-2.06.94zm10 10l.94 2.06.94-2.06 2.06-.94-2.06-.94-.94-2.06-.94 2.06-2.06.94z\"/><path d=\"M17.41 7.96l-1.37-1.37c-.4-.4-.92-.59-1.43-.59-.52 0-1.04.2-1.43.59L10.3 9.45l-7.72 7.72c-.78.78-.78 2.05 0 2.83L4 21.41c.39.39.9.59 1.41.59.51 0 1.02-.2 1.41-.59l7.78-7.78 2.81-2.81c.8-.78.8-2.07 0-2.86zM5.41 20L4 18.59l7.72-7.72 1.47 1.35L5.41 20z\"/>\n",
              "  </svg>\n",
              "      </button>\n",
              "      \n",
              "  <style>\n",
              "    .colab-df-container {\n",
              "      display:flex;\n",
              "      flex-wrap:wrap;\n",
              "      gap: 12px;\n",
              "    }\n",
              "\n",
              "    .colab-df-convert {\n",
              "      background-color: #E8F0FE;\n",
              "      border: none;\n",
              "      border-radius: 50%;\n",
              "      cursor: pointer;\n",
              "      display: none;\n",
              "      fill: #1967D2;\n",
              "      height: 32px;\n",
              "      padding: 0 0 0 0;\n",
              "      width: 32px;\n",
              "    }\n",
              "\n",
              "    .colab-df-convert:hover {\n",
              "      background-color: #E2EBFA;\n",
              "      box-shadow: 0px 1px 2px rgba(60, 64, 67, 0.3), 0px 1px 3px 1px rgba(60, 64, 67, 0.15);\n",
              "      fill: #174EA6;\n",
              "    }\n",
              "\n",
              "    [theme=dark] .colab-df-convert {\n",
              "      background-color: #3B4455;\n",
              "      fill: #D2E3FC;\n",
              "    }\n",
              "\n",
              "    [theme=dark] .colab-df-convert:hover {\n",
              "      background-color: #434B5C;\n",
              "      box-shadow: 0px 1px 3px 1px rgba(0, 0, 0, 0.15);\n",
              "      filter: drop-shadow(0px 1px 2px rgba(0, 0, 0, 0.3));\n",
              "      fill: #FFFFFF;\n",
              "    }\n",
              "  </style>\n",
              "\n",
              "      <script>\n",
              "        const buttonEl =\n",
              "          document.querySelector('#df-fb062d08-3405-4640-868b-8332a75ff3be button.colab-df-convert');\n",
              "        buttonEl.style.display =\n",
              "          google.colab.kernel.accessAllowed ? 'block' : 'none';\n",
              "\n",
              "        async function convertToInteractive(key) {\n",
              "          const element = document.querySelector('#df-fb062d08-3405-4640-868b-8332a75ff3be');\n",
              "          const dataTable =\n",
              "            await google.colab.kernel.invokeFunction('convertToInteractive',\n",
              "                                                     [key], {});\n",
              "          if (!dataTable) return;\n",
              "\n",
              "          const docLinkHtml = 'Like what you see? Visit the ' +\n",
              "            '<a target=\"_blank\" href=https://colab.research.google.com/notebooks/data_table.ipynb>data table notebook</a>'\n",
              "            + ' to learn more about interactive tables.';\n",
              "          element.innerHTML = '';\n",
              "          dataTable['output_type'] = 'display_data';\n",
              "          await google.colab.output.renderOutput(dataTable, element);\n",
              "          const docLink = document.createElement('div');\n",
              "          docLink.innerHTML = docLinkHtml;\n",
              "          element.appendChild(docLink);\n",
              "        }\n",
              "      </script>\n",
              "    </div>\n",
              "  </div>\n",
              "  "
            ]
          },
          "metadata": {},
          "execution_count": 10
        }
      ]
    },
    {
      "cell_type": "code",
      "source": [
        "df.isnull().sum()"
      ],
      "metadata": {
        "colab": {
          "base_uri": "https://localhost:8080/"
        },
        "id": "aqSs8TZVN_0d",
        "outputId": "be077e04-2a93-4b07-d93e-96aed98e16b0"
      },
      "execution_count": 11,
      "outputs": [
        {
          "output_type": "execute_result",
          "data": {
            "text/plain": [
              "client_id                          0\n",
              "average_check                      0\n",
              "number_orders                      0\n",
              "average_score                   1797\n",
              "items_per_order                    0\n",
              "is_friend                          0\n",
              "last_check                         5\n",
              "last_score                      7196\n",
              "last_scored_after_order_days    7196\n",
              "last_late_by_minutes               0\n",
              "is_last_order_fullfilled           0\n",
              "items_share_category_1             0\n",
              "items_share_category_2             0\n",
              "items_share_category_3             0\n",
              "items_share_category_4             0\n",
              "items_share_category_5             0\n",
              "items_share_category_6             0\n",
              "items_share_category_7             0\n",
              "items_share_category_8             0\n",
              "items_share_category_9             0\n",
              "items_share_category_10            0\n",
              "items_share_category_11            0\n",
              "items_share_category_12            0\n",
              "items_share_category_13            0\n",
              "items_share_category_14            0\n",
              "items_share_category_15            0\n",
              "items_share_category_16            0\n",
              "items_share_category_17            0\n",
              "items_share_category_18            0\n",
              "items_share_category_19            0\n",
              "items_share_category_20            0\n",
              "items_share_category_21            0\n",
              "items_share_category_22            0\n",
              "items_share_category_23            0\n",
              "items_share_category_24            0\n",
              "items_share_category_25            0\n",
              "items_share_category_26            0\n",
              "items_share_category_27            0\n",
              "is_churn                           0\n",
              "dtype: int64"
            ]
          },
          "metadata": {},
          "execution_count": 11
        }
      ]
    },
    {
      "cell_type": "code",
      "source": [
        "df=df.drop(['client_id', 'last_score', 'last_scored_after_order_days'],axis=1)\n",
        "\n",
        "imputer = KNNImputer(n_neighbors = 3)\n",
        "imputed_columns = imputer.fit_transform(df[['average_score', 'last_check']])\n",
        "\n",
        "df[['average_score', 'last_check']] = imputed_columns"
      ],
      "metadata": {
        "id": "pwm2cig4K-fm"
      },
      "execution_count": 12,
      "outputs": []
    },
    {
      "cell_type": "code",
      "source": [
        "x=df.drop('is_churn',axis=1)\n",
        "y=df['is_churn']"
      ],
      "metadata": {
        "id": "VqnwNrflubCM"
      },
      "execution_count": 13,
      "outputs": []
    },
    {
      "cell_type": "code",
      "source": [
        "df['is_churn'].value_counts()"
      ],
      "metadata": {
        "colab": {
          "base_uri": "https://localhost:8080/"
        },
        "id": "onRDvx-zPIHy",
        "outputId": "1e64d460-1f6e-4a9b-ad99-73a64a05eeb2"
      },
      "execution_count": 14,
      "outputs": [
        {
          "output_type": "execute_result",
          "data": {
            "text/plain": [
              "0    8505\n",
              "1    2479\n",
              "Name: is_churn, dtype: int64"
            ]
          },
          "metadata": {},
          "execution_count": 14
        }
      ]
    },
    {
      "cell_type": "markdown",
      "source": [
        "**SMOTEENN**\n"
      ],
      "metadata": {
        "id": "gF0vCrzAM_sA"
      }
    },
    {
      "cell_type": "code",
      "source": [
        "sm = SMOTEENN()\n",
        "X_resampled1, y_resampled1 = sm.fit_resample(x,y)\n",
        "\n",
        "xr_train1,xr_test1,yr_train1,yr_test1=train_test_split(X_resampled1, y_resampled1,test_size=0.2, random_state = 111)"
      ],
      "metadata": {
        "id": "yBU0GlsmLECL"
      },
      "execution_count": 15,
      "outputs": []
    },
    {
      "cell_type": "code",
      "source": [
        "#RF\n",
        "model_rf_smote=RandomForestClassifier(max_features='auto', n_estimators= 700, max_depth=50, min_samples_leaf = 1, min_samples_split = 2, bootstrap=False, class_weight = 'balanced')\n",
        "model_rf_smote.fit(xr_train1,yr_train1)\n",
        "yr_predict1 = model_rf_smote.predict(xr_test1)\n",
        "print(classification_report(yr_test1, yr_predict1))\n",
        "print('F1-score: ', f1_score(yr_test1, yr_predict1))\n",
        "print(confusion_matrix(yr_test1, yr_predict1))"
      ],
      "metadata": {
        "colab": {
          "base_uri": "https://localhost:8080/"
        },
        "id": "4nfbC7c7L1VI",
        "outputId": "e7574557-579d-428b-d702-c31d7fd6e721"
      },
      "execution_count": 19,
      "outputs": [
        {
          "output_type": "stream",
          "name": "stdout",
          "text": [
            "              precision    recall  f1-score   support\n",
            "\n",
            "           0       0.87      0.88      0.87       588\n",
            "           1       0.90      0.90      0.90       757\n",
            "\n",
            "    accuracy                           0.89      1345\n",
            "   macro avg       0.89      0.89      0.89      1345\n",
            "weighted avg       0.89      0.89      0.89      1345\n",
            "\n",
            "F1-score:  0.9021164021164021\n",
            "[[515  73]\n",
            " [ 75 682]]\n"
          ]
        }
      ]
    },
    {
      "cell_type": "code",
      "source": [
        "#CSV OUTPUT\n",
        "test = pd.read_csv('ArbuzTest.csv')\n",
        "\n",
        "test=test.drop(['client_id', 'last_score', 'last_scored_after_order_days'],axis=1)\n",
        "imputed_test_columns = imputer.fit_transform(test[['average_score', 'last_check']])\n",
        "test[['average_score', 'last_check']] = imputed_test_columns"
      ],
      "metadata": {
        "id": "zNvd9I7BMLmv"
      },
      "execution_count": 20,
      "outputs": []
    },
    {
      "cell_type": "code",
      "source": [
        "yr_predict1 = model_rf_smote.predict(test)"
      ],
      "metadata": {
        "id": "zaNeexalu-kn"
      },
      "execution_count": 21,
      "outputs": []
    },
    {
      "cell_type": "code",
      "source": [
        "test = pd.read_csv('ArbuzTest.csv')\n",
        "test['is_churn'] = yr_predict1\n",
        "final = test[['client_id', 'is_churn']]\n",
        "final.to_csv('final_result.csv', index = False)"
      ],
      "metadata": {
        "id": "OFwDrU6hu_1h"
      },
      "execution_count": 22,
      "outputs": []
    }
  ]
}